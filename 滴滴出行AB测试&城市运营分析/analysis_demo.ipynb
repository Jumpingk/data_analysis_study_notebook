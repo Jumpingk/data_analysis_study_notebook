{
 "cells": [
  {
   "attachments": {},
   "cell_type": "markdown",
   "metadata": {},
   "source": [
    "## 滴滴出行A/B测试&城市运营分析\n",
    "\n",
    "#### 问题背景\n",
    "随着企业日常经营活动的进行，企业内部必然产生了各式各样的数据，如何利用这些数据得出有益的见解，并支持我们下一步的产品迭代以及领导决策就显得尤为重要。\n",
    "\n",
    "A/B测试是互联网企业常用的一种基于数据的产品迭代方法，它的主要思想是控制其他条件不变的前提下对不同（或同一、同质）样本设计不同实验水平（方案），并根据最终的数据变现来判断自变量对因变量的影响，其主要理论思想来源于统计学的假设检验部分；\n",
    "\n",
    "#### 数据说明\n",
    "- 数据集分为test.xlsx 与 city.xlsx 两部分：\n",
    "- 其中test.xlsx 为滴滴出行某次AB测试结果数据，各字段说明如下：\n",
    "\n",
    "| 字段名称          | 字段解释       |\n",
    "| ----------------- | -------------- |\n",
    "| date              | 日期           |\n",
    "| group             | 组别           |\n",
    "| requests          | 订单请求数     |\n",
    "| gmv               | 成交总额       |\n",
    "| coupon per trip   | 每单优惠券金额 |\n",
    "| trips             | 订单数         |\n",
    "| canceled requests | 取消请求数     |\n",
    "\n",
    "- city.xlsx 为某城市运营数据，各字段说明如下：\n",
    "\n",
    "| 字段名称                 | 字段解释             |\n",
    "| ------------------------ | -------------------- |\n",
    "| date                     | 日期                 |\n",
    "| hour                     | 时点                 |\n",
    "| requests                 | 订单请求数           |\n",
    "| trips                    | 订单数               |\n",
    "| supply hours             | 可服务时长           |\n",
    "| average minutes of trips | 平均订单时长（分钟） |\n",
    "| pETA                     | 顾客预计等待时长     |\n",
    "| aETA                     | 顾客实际等待时长     |\n",
    "| utiliz                   | 司机在忙率           |\n",
    "\n",
    "- test.xlsx 数据可以用来判断实验条件对此次AB测试的结果影响是否显著；\n",
    "- city.xlsx 数据可以用来探索该城市运营中出现的问题，根据关键结论辅助决策。\n",
    "\n",
    "#### 数据来源\n",
    "- 数据来自滴滴出行内部"
   ]
  },
  {
   "attachments": {},
   "cell_type": "markdown",
   "metadata": {},
   "source": [
    "### 一、A/B测试效果分析\n",
    "\n",
    "#### 1、数据准备"
   ]
  },
  {
   "cell_type": "code",
   "execution_count": 2,
   "metadata": {},
   "outputs": [
    {
     "data": {
      "text/html": [
       "<div>\n",
       "<style scoped>\n",
       "    .dataframe tbody tr th:only-of-type {\n",
       "        vertical-align: middle;\n",
       "    }\n",
       "\n",
       "    .dataframe tbody tr th {\n",
       "        vertical-align: top;\n",
       "    }\n",
       "\n",
       "    .dataframe thead th {\n",
       "        text-align: right;\n",
       "    }\n",
       "</style>\n",
       "<table border=\"1\" class=\"dataframe\">\n",
       "  <thead>\n",
       "    <tr style=\"text-align: right;\">\n",
       "      <th></th>\n",
       "      <th>date</th>\n",
       "      <th>group</th>\n",
       "      <th>requests</th>\n",
       "      <th>gmv</th>\n",
       "      <th>coupon per trip</th>\n",
       "      <th>trips</th>\n",
       "      <th>canceled requests</th>\n",
       "    </tr>\n",
       "  </thead>\n",
       "  <tbody>\n",
       "    <tr>\n",
       "      <th>0</th>\n",
       "      <td>2019-01-01</td>\n",
       "      <td>control</td>\n",
       "      <td>30</td>\n",
       "      <td>7486.620</td>\n",
       "      <td>1.069746</td>\n",
       "      <td>24</td>\n",
       "      <td>1</td>\n",
       "    </tr>\n",
       "    <tr>\n",
       "      <th>1</th>\n",
       "      <td>2019-01-02</td>\n",
       "      <td>control</td>\n",
       "      <td>152</td>\n",
       "      <td>38301.575</td>\n",
       "      <td>1.044199</td>\n",
       "      <td>121</td>\n",
       "      <td>8</td>\n",
       "    </tr>\n",
       "    <tr>\n",
       "      <th>2</th>\n",
       "      <td>2019-01-03</td>\n",
       "      <td>control</td>\n",
       "      <td>267</td>\n",
       "      <td>67768.425</td>\n",
       "      <td>1.032276</td>\n",
       "      <td>215</td>\n",
       "      <td>14</td>\n",
       "    </tr>\n",
       "    <tr>\n",
       "      <th>3</th>\n",
       "      <td>2019-01-04</td>\n",
       "      <td>control</td>\n",
       "      <td>369</td>\n",
       "      <td>94992.900</td>\n",
       "      <td>1.028196</td>\n",
       "      <td>298</td>\n",
       "      <td>19</td>\n",
       "    </tr>\n",
       "    <tr>\n",
       "      <th>4</th>\n",
       "      <td>2019-01-05</td>\n",
       "      <td>control</td>\n",
       "      <td>478</td>\n",
       "      <td>123236.875</td>\n",
       "      <td>1.011807</td>\n",
       "      <td>390</td>\n",
       "      <td>24</td>\n",
       "    </tr>\n",
       "  </tbody>\n",
       "</table>\n",
       "</div>"
      ],
      "text/plain": [
       "        date    group  requests         gmv  coupon per trip  trips  \\\n",
       "0 2019-01-01  control        30    7486.620         1.069746     24   \n",
       "1 2019-01-02  control       152   38301.575         1.044199    121   \n",
       "2 2019-01-03  control       267   67768.425         1.032276    215   \n",
       "3 2019-01-04  control       369   94992.900         1.028196    298   \n",
       "4 2019-01-05  control       478  123236.875         1.011807    390   \n",
       "\n",
       "   canceled requests  \n",
       "0                  1  \n",
       "1                  8  \n",
       "2                 14  \n",
       "3                 19  \n",
       "4                 24  "
      ]
     },
     "execution_count": 2,
     "metadata": {},
     "output_type": "execute_result"
    }
   ],
   "source": [
    "import pandas as pd\n",
    "\n",
    "test = pd.read_excel('./data/test.xlsx')\n",
    "test.head()"
   ]
  },
  {
   "attachments": {},
   "cell_type": "markdown",
   "metadata": {},
   "source": [
    "#### 2、计算ROI"
   ]
  },
  {
   "cell_type": "code",
   "execution_count": 5,
   "metadata": {},
   "outputs": [
    {
     "data": {
      "text/html": [
       "<div>\n",
       "<style scoped>\n",
       "    .dataframe tbody tr th:only-of-type {\n",
       "        vertical-align: middle;\n",
       "    }\n",
       "\n",
       "    .dataframe tbody tr th {\n",
       "        vertical-align: top;\n",
       "    }\n",
       "\n",
       "    .dataframe thead th {\n",
       "        text-align: right;\n",
       "    }\n",
       "</style>\n",
       "<table border=\"1\" class=\"dataframe\">\n",
       "  <thead>\n",
       "    <tr style=\"text-align: right;\">\n",
       "      <th></th>\n",
       "      <th>date</th>\n",
       "      <th>group</th>\n",
       "      <th>requests</th>\n",
       "      <th>gmv</th>\n",
       "      <th>coupon per trip</th>\n",
       "      <th>trips</th>\n",
       "      <th>canceled requests</th>\n",
       "      <th>ROI</th>\n",
       "    </tr>\n",
       "  </thead>\n",
       "  <tbody>\n",
       "    <tr>\n",
       "      <th>0</th>\n",
       "      <td>2019-01-01</td>\n",
       "      <td>control</td>\n",
       "      <td>30</td>\n",
       "      <td>7486.620</td>\n",
       "      <td>1.069746</td>\n",
       "      <td>24</td>\n",
       "      <td>1</td>\n",
       "      <td>291.604269</td>\n",
       "    </tr>\n",
       "    <tr>\n",
       "      <th>1</th>\n",
       "      <td>2019-01-02</td>\n",
       "      <td>control</td>\n",
       "      <td>152</td>\n",
       "      <td>38301.575</td>\n",
       "      <td>1.044199</td>\n",
       "      <td>121</td>\n",
       "      <td>8</td>\n",
       "      <td>303.143166</td>\n",
       "    </tr>\n",
       "    <tr>\n",
       "      <th>2</th>\n",
       "      <td>2019-01-03</td>\n",
       "      <td>control</td>\n",
       "      <td>267</td>\n",
       "      <td>67768.425</td>\n",
       "      <td>1.032276</td>\n",
       "      <td>215</td>\n",
       "      <td>14</td>\n",
       "      <td>305.346684</td>\n",
       "    </tr>\n",
       "    <tr>\n",
       "      <th>3</th>\n",
       "      <td>2019-01-04</td>\n",
       "      <td>control</td>\n",
       "      <td>369</td>\n",
       "      <td>94992.900</td>\n",
       "      <td>1.028196</td>\n",
       "      <td>298</td>\n",
       "      <td>19</td>\n",
       "      <td>310.026761</td>\n",
       "    </tr>\n",
       "    <tr>\n",
       "      <th>4</th>\n",
       "      <td>2019-01-05</td>\n",
       "      <td>control</td>\n",
       "      <td>478</td>\n",
       "      <td>123236.875</td>\n",
       "      <td>1.011807</td>\n",
       "      <td>390</td>\n",
       "      <td>24</td>\n",
       "      <td>312.304607</td>\n",
       "    </tr>\n",
       "  </tbody>\n",
       "</table>\n",
       "</div>"
      ],
      "text/plain": [
       "        date    group  requests         gmv  coupon per trip  trips  \\\n",
       "0 2019-01-01  control        30    7486.620         1.069746     24   \n",
       "1 2019-01-02  control       152   38301.575         1.044199    121   \n",
       "2 2019-01-03  control       267   67768.425         1.032276    215   \n",
       "3 2019-01-04  control       369   94992.900         1.028196    298   \n",
       "4 2019-01-05  control       478  123236.875         1.011807    390   \n",
       "\n",
       "   canceled requests         ROI  \n",
       "0                  1  291.604269  \n",
       "1                  8  303.143166  \n",
       "2                 14  305.346684  \n",
       "3                 19  310.026761  \n",
       "4                 24  312.304607  "
      ]
     },
     "execution_count": 5,
     "metadata": {},
     "output_type": "execute_result"
    }
   ],
   "source": [
    "# 计算优惠券投入相对gmv的ROI\n",
    "test['ROI'] = test['gmv']/(test['coupon per trip']*test['trips'])\n",
    "test.head()"
   ]
  },
  {
   "attachments": {},
   "cell_type": "markdown",
   "metadata": {},
   "source": [
    "#### 3、【requests因变量】检验"
   ]
  },
  {
   "cell_type": "code",
   "execution_count": 8,
   "metadata": {},
   "outputs": [
    {
     "data": {
      "text/plain": [
       "group\n",
       "control       29\n",
       "experiment    29\n",
       "Name: group, dtype: int64"
      ]
     },
     "execution_count": 8,
     "metadata": {},
     "output_type": "execute_result"
    }
   ],
   "source": [
    "test.groupby('group').group.count()"
   ]
  },
  {
   "attachments": {},
   "cell_type": "markdown",
   "metadata": {},
   "source": [
    "数据共58条，对照组和实验组各29条，样本量<30"
   ]
  },
  {
   "attachments": {},
   "cell_type": "markdown",
   "metadata": {},
   "source": [
    "##### (1) 【requests因变量】方差检验\n",
    "\n",
    "- 1、记两组requests方差分别为c1, c2\n",
    "- 2、零假设H0:c1=c2；备择假设H1:c1≠c2\n",
    "- 3、显著性水平0.05"
   ]
  },
  {
   "cell_type": "code",
   "execution_count": 9,
   "metadata": {},
   "outputs": [
    {
     "data": {
      "text/plain": [
       "LeveneResult(statistic=0.014685075667736849, pvalue=0.903980667108546)"
      ]
     },
     "execution_count": 9,
     "metadata": {},
     "output_type": "execute_result"
    }
   ],
   "source": [
    "# levene检验 requests因变量 是否满足方差齐性\n",
    "requests_A = test[test.group == 'control'].requests\n",
    "requests_B = test[test.group == 'experiment'].requests\n",
    "\n",
    "import scipy.stats as st\n",
    "st.levene(requests_A, requests_B)"
   ]
  },
  {
   "attachments": {},
   "cell_type": "markdown",
   "metadata": {},
   "source": [
    "- P值大于0.05，不拒绝原假设，因此可认为两组实验requests因变量 齐方差"
   ]
  },
  {
   "attachments": {},
   "cell_type": "markdown",
   "metadata": {},
   "source": [
    "##### (2) 【requests因变量】均值检验\n",
    "- 1、该数据为同一样本实验前后的不同水平，因此选用配对样本t检验。\n",
    "- 2、记两组requests均值分别为u1、u2\n",
    "- 3、零假设H0：u1=u2; 备择假设H1：u1≠u2\n",
    "- 4、显著性水平取0.05"
   ]
  },
  {
   "cell_type": "code",
   "execution_count": 10,
   "metadata": {},
   "outputs": [
    {
     "data": {
      "text/plain": [
       "TtestResult(statistic=1.6436140982479508, pvalue=0.11143970454099938, df=28)"
      ]
     },
     "execution_count": 10,
     "metadata": {},
     "output_type": "execute_result"
    }
   ],
   "source": [
    "# 配对样本t检验（两独立样本t检验之前需检验是否齐方差，此处不需要）\n",
    "st.ttest_rel(requests_A, requests_B)"
   ]
  },
  {
   "attachments": {},
   "cell_type": "markdown",
   "metadata": {},
   "source": [
    "- P值大于0.05，不拒绝原假设，因此可认为实验条件对requests影响不显著。"
   ]
  },
  {
   "attachments": {},
   "cell_type": "markdown",
   "metadata": {},
   "source": [
    "#### 4、【gmv变量】 检验\n",
    "\n",
    "同理，对gmv进行方差和均值检验。\n",
    "\n",
    "##### (1) 【gmv变量】方差检验"
   ]
  },
  {
   "cell_type": "code",
   "execution_count": 11,
   "metadata": {},
   "outputs": [
    {
     "data": {
      "text/plain": [
       "LeveneResult(statistic=0.02865341299111212, pvalue=0.8661917430097603)"
      ]
     },
     "execution_count": 11,
     "metadata": {},
     "output_type": "execute_result"
    }
   ],
   "source": [
    "# levene检验gmv方差是否齐性\n",
    "gmv_A = test[test.group == 'control'].gmv\n",
    "gmv_B = test[test.group == 'experiment'].gmv\n",
    "\n",
    "st.levene(gmv_A, gmv_B)"
   ]
  },
  {
   "attachments": {},
   "cell_type": "markdown",
   "metadata": {},
   "source": [
    "- P值大于0.05，不拒绝原假设，因此可认为两组实验gmv齐方差。"
   ]
  },
  {
   "attachments": {},
   "cell_type": "markdown",
   "metadata": {},
   "source": [
    "##### (2) 【gmv变量】均值检验"
   ]
  },
  {
   "cell_type": "code",
   "execution_count": 12,
   "metadata": {},
   "outputs": [
    {
     "data": {
      "text/plain": [
       "TtestResult(statistic=4.247583846321442, pvalue=0.00021564303983362577, df=28)"
      ]
     },
     "execution_count": 12,
     "metadata": {},
     "output_type": "execute_result"
    }
   ],
   "source": [
    "# 配对样本t检验（两独立样本t检验之前需检验是否齐方差，此处不需要）\n",
    "st.ttest_rel(gmv_A, gmv_B)"
   ]
  },
  {
   "attachments": {},
   "cell_type": "markdown",
   "metadata": {},
   "source": [
    "- P值小于0.05，拒绝原假设，因此可认为实验条件对【gmv变量】有显著影响。"
   ]
  },
  {
   "attachments": {},
   "cell_type": "markdown",
   "metadata": {},
   "source": [
    "#### 5、【ROI变量】检验\n",
    "\n",
    "同理，对ROI进行方差齐性检验和均值检验\n",
    "\n",
    "##### (1) 【ROI变量】方差检验"
   ]
  },
  {
   "cell_type": "code",
   "execution_count": 13,
   "metadata": {},
   "outputs": [
    {
     "data": {
      "text/plain": [
       "LeveneResult(statistic=0.10363884745479335, pvalue=0.7487044961896305)"
      ]
     },
     "execution_count": 13,
     "metadata": {},
     "output_type": "execute_result"
    }
   ],
   "source": [
    "# levene检验ROI是否方差齐性\n",
    "ROI_A = test[test.group == 'control'].ROI\n",
    "ROI_B = test[test.group == 'experiment'].ROI\n",
    "st.levene(ROI_A, ROI_B)"
   ]
  },
  {
   "attachments": {},
   "cell_type": "markdown",
   "metadata": {},
   "source": [
    "- P值大于0.05，不拒绝原假设，因此可认为两组实验ROI齐方差。"
   ]
  },
  {
   "attachments": {},
   "cell_type": "markdown",
   "metadata": {},
   "source": [
    "##### (2) 【ROI变量】均值检验"
   ]
  },
  {
   "cell_type": "code",
   "execution_count": 14,
   "metadata": {},
   "outputs": [
    {
     "data": {
      "text/plain": [
       "TtestResult(statistic=10.305504459268173, pvalue=4.93261342734923e-11, df=28)"
      ]
     },
     "execution_count": 14,
     "metadata": {},
     "output_type": "execute_result"
    }
   ],
   "source": [
    "# 配对样本t检验（两独立样本t检验之前需检验是否齐方差，此处不需要）\n",
    "st.ttest_rel(ROI_A, ROI_B)"
   ]
  },
  {
   "attachments": {},
   "cell_type": "markdown",
   "metadata": {},
   "source": [
    "- P值小于0.05，拒绝原假设，因此可认为实验条件对ROI有显著影响。"
   ]
  },
  {
   "attachments": {},
   "cell_type": "markdown",
   "metadata": {},
   "source": [
    "### 二、城市运营分析\n",
    "\n",
    "#### 1、数据准备"
   ]
  },
  {
   "cell_type": "code",
   "execution_count": 15,
   "metadata": {},
   "outputs": [
    {
     "data": {
      "text/html": [
       "<div>\n",
       "<style scoped>\n",
       "    .dataframe tbody tr th:only-of-type {\n",
       "        vertical-align: middle;\n",
       "    }\n",
       "\n",
       "    .dataframe tbody tr th {\n",
       "        vertical-align: top;\n",
       "    }\n",
       "\n",
       "    .dataframe thead th {\n",
       "        text-align: right;\n",
       "    }\n",
       "</style>\n",
       "<table border=\"1\" class=\"dataframe\">\n",
       "  <thead>\n",
       "    <tr style=\"text-align: right;\">\n",
       "      <th></th>\n",
       "      <th>date</th>\n",
       "      <th>hour</th>\n",
       "      <th>requests</th>\n",
       "      <th>trips</th>\n",
       "      <th>supply hours</th>\n",
       "      <th>average minutes of trips</th>\n",
       "      <th>pETA</th>\n",
       "      <th>aETA</th>\n",
       "      <th>utiliz</th>\n",
       "    </tr>\n",
       "  </thead>\n",
       "  <tbody>\n",
       "    <tr>\n",
       "      <th>0</th>\n",
       "      <td>2013-09-01</td>\n",
       "      <td>11</td>\n",
       "      <td>79</td>\n",
       "      <td>55</td>\n",
       "      <td>42.63</td>\n",
       "      <td>20.43</td>\n",
       "      <td>5.51</td>\n",
       "      <td>7.19</td>\n",
       "      <td>0.479240</td>\n",
       "    </tr>\n",
       "    <tr>\n",
       "      <th>1</th>\n",
       "      <td>2013-09-01</td>\n",
       "      <td>12</td>\n",
       "      <td>73</td>\n",
       "      <td>41</td>\n",
       "      <td>36.43</td>\n",
       "      <td>15.53</td>\n",
       "      <td>5.48</td>\n",
       "      <td>8.48</td>\n",
       "      <td>0.426297</td>\n",
       "    </tr>\n",
       "    <tr>\n",
       "      <th>2</th>\n",
       "      <td>2013-09-01</td>\n",
       "      <td>13</td>\n",
       "      <td>54</td>\n",
       "      <td>50</td>\n",
       "      <td>23.02</td>\n",
       "      <td>17.76</td>\n",
       "      <td>5.07</td>\n",
       "      <td>8.94</td>\n",
       "      <td>0.771503</td>\n",
       "    </tr>\n",
       "    <tr>\n",
       "      <th>3</th>\n",
       "      <td>2013-09-02</td>\n",
       "      <td>11</td>\n",
       "      <td>193</td>\n",
       "      <td>170</td>\n",
       "      <td>64.20</td>\n",
       "      <td>31.47</td>\n",
       "      <td>5.31</td>\n",
       "      <td>6.55</td>\n",
       "      <td>0.490187</td>\n",
       "    </tr>\n",
       "    <tr>\n",
       "      <th>4</th>\n",
       "      <td>2013-09-02</td>\n",
       "      <td>12</td>\n",
       "      <td>258</td>\n",
       "      <td>210</td>\n",
       "      <td>80.28</td>\n",
       "      <td>38.68</td>\n",
       "      <td>4.94</td>\n",
       "      <td>6.08</td>\n",
       "      <td>0.481814</td>\n",
       "    </tr>\n",
       "  </tbody>\n",
       "</table>\n",
       "</div>"
      ],
      "text/plain": [
       "        date  hour  requests  trips  supply hours  average minutes of trips  \\\n",
       "0 2013-09-01    11        79     55         42.63                     20.43   \n",
       "1 2013-09-01    12        73     41         36.43                     15.53   \n",
       "2 2013-09-01    13        54     50         23.02                     17.76   \n",
       "3 2013-09-02    11       193    170         64.20                     31.47   \n",
       "4 2013-09-02    12       258    210         80.28                     38.68   \n",
       "\n",
       "   pETA  aETA    utiliz  \n",
       "0  5.51  7.19  0.479240  \n",
       "1  5.48  8.48  0.426297  \n",
       "2  5.07  8.94  0.771503  \n",
       "3  5.31  6.55  0.490187  \n",
       "4  4.94  6.08  0.481814  "
      ]
     },
     "execution_count": 15,
     "metadata": {},
     "output_type": "execute_result"
    }
   ],
   "source": [
    "# 导入该城市运营相关数据\n",
    "city = pd.read_excel('./data/city.xlsx')\n",
    "city.head()"
   ]
  },
  {
   "cell_type": "code",
   "execution_count": 16,
   "metadata": {},
   "outputs": [
    {
     "name": "stdout",
     "output_type": "stream",
     "text": [
      "<class 'pandas.core.frame.DataFrame'>\n",
      "RangeIndex: 90 entries, 0 to 89\n",
      "Data columns (total 9 columns):\n",
      " #   Column                    Non-Null Count  Dtype         \n",
      "---  ------                    --------------  -----         \n",
      " 0   date                      90 non-null     datetime64[ns]\n",
      " 1   hour                      90 non-null     int64         \n",
      " 2   requests                  90 non-null     int64         \n",
      " 3   trips                     90 non-null     int64         \n",
      " 4   supply hours              90 non-null     float64       \n",
      " 5   average minutes of trips  90 non-null     float64       \n",
      " 6   pETA                      90 non-null     float64       \n",
      " 7   aETA                      90 non-null     float64       \n",
      " 8   utiliz                    90 non-null     float64       \n",
      "dtypes: datetime64[ns](1), float64(5), int64(3)\n",
      "memory usage: 6.5 KB\n"
     ]
    }
   ],
   "source": [
    "# 查看数据有无缺失值\n",
    "city.info()"
   ]
  },
  {
   "attachments": {},
   "cell_type": "markdown",
   "metadata": {},
   "source": [
    "#### 2、数据探索分析\n",
    "\n",
    "##### 2.1 订单量最多的时间点"
   ]
  },
  {
   "cell_type": "code",
   "execution_count": 17,
   "metadata": {},
   "outputs": [
    {
     "data": {
      "text/html": [
       "<div>\n",
       "<style scoped>\n",
       "    .dataframe tbody tr th:only-of-type {\n",
       "        vertical-align: middle;\n",
       "    }\n",
       "\n",
       "    .dataframe tbody tr th {\n",
       "        vertical-align: top;\n",
       "    }\n",
       "\n",
       "    .dataframe thead th {\n",
       "        text-align: right;\n",
       "    }\n",
       "</style>\n",
       "<table border=\"1\" class=\"dataframe\">\n",
       "  <thead>\n",
       "    <tr style=\"text-align: right;\">\n",
       "      <th></th>\n",
       "      <th>requests</th>\n",
       "    </tr>\n",
       "    <tr>\n",
       "      <th>hour</th>\n",
       "      <th></th>\n",
       "    </tr>\n",
       "  </thead>\n",
       "  <tbody>\n",
       "    <tr>\n",
       "      <th>11</th>\n",
       "      <td>6008</td>\n",
       "    </tr>\n",
       "    <tr>\n",
       "      <th>12</th>\n",
       "      <td>8530</td>\n",
       "    </tr>\n",
       "    <tr>\n",
       "      <th>13</th>\n",
       "      <td>6559</td>\n",
       "    </tr>\n",
       "  </tbody>\n",
       "</table>\n",
       "</div>"
      ],
      "text/plain": [
       "      requests\n",
       "hour          \n",
       "11        6008\n",
       "12        8530\n",
       "13        6559"
      ]
     },
     "execution_count": 17,
     "metadata": {},
     "output_type": "execute_result"
    }
   ],
   "source": [
    "req_hour = city.groupby(['hour'], as_index=True).agg({'requests': 'sum'})\n",
    "req_hour"
   ]
  },
  {
   "cell_type": "code",
   "execution_count": 19,
   "metadata": {},
   "outputs": [
    {
     "data": {
      "image/png": "[encoded data removed]",
      "text/plain": [
       "<Figure size 640x480 with 1 Axes>"
      ]
     },
     "metadata": {},
     "output_type": "display_data"
    }
   ],
   "source": [
    "# 绘制各时点订单请求柱状图\n",
    "import matplotlib.pyplot as plt\n",
    "plt.rcParams['font.sans-serif'] = ['SimHei'] #显示中文标签\n",
    "plt.rcParams['axes.unicode_minus'] = False\n",
    "\n",
    "req_hour.plot(kind='bar')\n",
    "plt.xticks(rotation=0)\n",
    "plt.title('各时点订单请求对比')\n",
    "plt.show()"
   ]
  },
  {
   "attachments": {},
   "cell_type": "markdown",
   "metadata": {},
   "source": [
    "- 可见，在11、12、13这三个时间点内，12点用户发起订单的需求是最大的，其次是13点、11点。\n",
    "- 司机运营平台应考虑加大该时点车辆供应。"
   ]
  },
  {
   "attachments": {},
   "cell_type": "markdown",
   "metadata": {},
   "source": [
    "##### 2.2 订单量最多的日期"
   ]
  },
  {
   "cell_type": "code",
   "execution_count": 22,
   "metadata": {},
   "outputs": [
    {
     "data": {
      "text/html": [
       "<div>\n",
       "<style scoped>\n",
       "    .dataframe tbody tr th:only-of-type {\n",
       "        vertical-align: middle;\n",
       "    }\n",
       "\n",
       "    .dataframe tbody tr th {\n",
       "        vertical-align: top;\n",
       "    }\n",
       "\n",
       "    .dataframe thead th {\n",
       "        text-align: right;\n",
       "    }\n",
       "</style>\n",
       "<table border=\"1\" class=\"dataframe\">\n",
       "  <thead>\n",
       "    <tr style=\"text-align: right;\">\n",
       "      <th></th>\n",
       "      <th>requests</th>\n",
       "    </tr>\n",
       "    <tr>\n",
       "      <th>date</th>\n",
       "      <th></th>\n",
       "    </tr>\n",
       "  </thead>\n",
       "  <tbody>\n",
       "    <tr>\n",
       "      <th>2013-09-01</th>\n",
       "      <td>206</td>\n",
       "    </tr>\n",
       "    <tr>\n",
       "      <th>2013-09-02</th>\n",
       "      <td>604</td>\n",
       "    </tr>\n",
       "    <tr>\n",
       "      <th>2013-09-03</th>\n",
       "      <td>238</td>\n",
       "    </tr>\n",
       "    <tr>\n",
       "      <th>2013-09-04</th>\n",
       "      <td>199</td>\n",
       "    </tr>\n",
       "    <tr>\n",
       "      <th>2013-09-05</th>\n",
       "      <td>782</td>\n",
       "    </tr>\n",
       "  </tbody>\n",
       "</table>\n",
       "</div>"
      ],
      "text/plain": [
       "            requests\n",
       "date                \n",
       "2013-09-01       206\n",
       "2013-09-02       604\n",
       "2013-09-03       238\n",
       "2013-09-04       199\n",
       "2013-09-05       782"
      ]
     },
     "execution_count": 22,
     "metadata": {},
     "output_type": "execute_result"
    }
   ],
   "source": [
    "req_date = city.groupby(['date'], as_index=True).agg({'requests': 'sum'})\n",
    "req_date.sort_values('date').head()"
   ]
  },
  {
   "cell_type": "code",
   "execution_count": 23,
   "metadata": {},
   "outputs": [
    {
     "data": {
      "image/png": "[encoded data removed]",
      "text/plain": [
       "<Figure size 640x480 with 1 Axes>"
      ]
     },
     "metadata": {},
     "output_type": "display_data"
    }
   ],
   "source": [
    "# 绘制订单请求数随日期变化的折线图\n",
    "req_date.plot(kind='line')\n",
    "plt.title('每日订单请求变化趋势')\n",
    "plt.show()"
   ]
  },
  {
   "attachments": {},
   "cell_type": "markdown",
   "metadata": {},
   "source": [
    "- 单月订单请求数随日期的变化呈周期性变化，我们猜测4个峰值分别对应4个周末，周末用户出行需求较大。\n",
    "- 经验证发现猜想与数据吻合，因此**司机运营平台应考虑加大周末、节假日的车辆供给**。"
   ]
  },
  {
   "attachments": {},
   "cell_type": "markdown",
   "metadata": {},
   "source": [
    "##### 2.3 各时段订单完成率"
   ]
  },
  {
   "cell_type": "code",
   "execution_count": 24,
   "metadata": {},
   "outputs": [
    {
     "data": {
      "text/html": [
       "<div>\n",
       "<style scoped>\n",
       "    .dataframe tbody tr th:only-of-type {\n",
       "        vertical-align: middle;\n",
       "    }\n",
       "\n",
       "    .dataframe tbody tr th {\n",
       "        vertical-align: top;\n",
       "    }\n",
       "\n",
       "    .dataframe thead th {\n",
       "        text-align: right;\n",
       "    }\n",
       "</style>\n",
       "<table border=\"1\" class=\"dataframe\">\n",
       "  <thead>\n",
       "    <tr style=\"text-align: right;\">\n",
       "      <th></th>\n",
       "      <th>hour</th>\n",
       "      <th>requests</th>\n",
       "      <th>trips</th>\n",
       "      <th>rate</th>\n",
       "    </tr>\n",
       "  </thead>\n",
       "  <tbody>\n",
       "    <tr>\n",
       "      <th>0</th>\n",
       "      <td>11</td>\n",
       "      <td>6008</td>\n",
       "      <td>4550</td>\n",
       "      <td>0.757324</td>\n",
       "    </tr>\n",
       "    <tr>\n",
       "      <th>1</th>\n",
       "      <td>12</td>\n",
       "      <td>8530</td>\n",
       "      <td>5850</td>\n",
       "      <td>0.685815</td>\n",
       "    </tr>\n",
       "    <tr>\n",
       "      <th>2</th>\n",
       "      <td>13</td>\n",
       "      <td>6559</td>\n",
       "      <td>3085</td>\n",
       "      <td>0.470346</td>\n",
       "    </tr>\n",
       "  </tbody>\n",
       "</table>\n",
       "</div>"
      ],
      "text/plain": [
       "   hour  requests  trips      rate\n",
       "0    11      6008   4550  0.757324\n",
       "1    12      8530   5850  0.685815\n",
       "2    13      6559   3085  0.470346"
      ]
     },
     "execution_count": 24,
     "metadata": {},
     "output_type": "execute_result"
    }
   ],
   "source": [
    "com_hour = city.groupby(['hour'], as_index=False).agg({'requests': 'sum', 'trips': 'sum'})\n",
    "com_hour['rate'] = com_hour['trips']/com_hour['requests']\n",
    "com_hour"
   ]
  },
  {
   "attachments": {},
   "cell_type": "markdown",
   "metadata": {},
   "source": [
    "- 13点订单需求较多，但订单完成率仅47%，说明较多订单没有得到及时响应。\n",
    "- 客运部应重点关注13点订单响应时长，排查具体原因。"
   ]
  },
  {
   "attachments": {},
   "cell_type": "markdown",
   "metadata": {},
   "source": [
    "##### 2.4 单月每日订单完成率"
   ]
  },
  {
   "cell_type": "code",
   "execution_count": 25,
   "metadata": {},
   "outputs": [
    {
     "data": {
      "text/html": [
       "<div>\n",
       "<style scoped>\n",
       "    .dataframe tbody tr th:only-of-type {\n",
       "        vertical-align: middle;\n",
       "    }\n",
       "\n",
       "    .dataframe tbody tr th {\n",
       "        vertical-align: top;\n",
       "    }\n",
       "\n",
       "    .dataframe thead th {\n",
       "        text-align: right;\n",
       "    }\n",
       "</style>\n",
       "<table border=\"1\" class=\"dataframe\">\n",
       "  <thead>\n",
       "    <tr style=\"text-align: right;\">\n",
       "      <th></th>\n",
       "      <th>requests</th>\n",
       "      <th>trips</th>\n",
       "      <th>rate</th>\n",
       "    </tr>\n",
       "    <tr>\n",
       "      <th>date</th>\n",
       "      <th></th>\n",
       "      <th></th>\n",
       "      <th></th>\n",
       "    </tr>\n",
       "  </thead>\n",
       "  <tbody>\n",
       "    <tr>\n",
       "      <th>2013-09-01</th>\n",
       "      <td>206</td>\n",
       "      <td>146</td>\n",
       "      <td>0.708738</td>\n",
       "    </tr>\n",
       "    <tr>\n",
       "      <th>2013-09-02</th>\n",
       "      <td>604</td>\n",
       "      <td>487</td>\n",
       "      <td>0.806291</td>\n",
       "    </tr>\n",
       "    <tr>\n",
       "      <th>2013-09-03</th>\n",
       "      <td>238</td>\n",
       "      <td>83</td>\n",
       "      <td>0.348739</td>\n",
       "    </tr>\n",
       "    <tr>\n",
       "      <th>2013-09-04</th>\n",
       "      <td>199</td>\n",
       "      <td>102</td>\n",
       "      <td>0.512563</td>\n",
       "    </tr>\n",
       "    <tr>\n",
       "      <th>2013-09-05</th>\n",
       "      <td>782</td>\n",
       "      <td>532</td>\n",
       "      <td>0.680307</td>\n",
       "    </tr>\n",
       "  </tbody>\n",
       "</table>\n",
       "</div>"
      ],
      "text/plain": [
       "            requests  trips      rate\n",
       "date                                 \n",
       "2013-09-01       206    146  0.708738\n",
       "2013-09-02       604    487  0.806291\n",
       "2013-09-03       238     83  0.348739\n",
       "2013-09-04       199    102  0.512563\n",
       "2013-09-05       782    532  0.680307"
      ]
     },
     "execution_count": 25,
     "metadata": {},
     "output_type": "execute_result"
    }
   ],
   "source": [
    "com_date = city.groupby(['date'], as_index=True).agg({'requests': 'sum', 'trips': 'sum'})\n",
    "com_date['rate'] = com_date['trips']/com_date['requests']\n",
    "com_date.sort_values('date').head()"
   ]
  },
  {
   "cell_type": "code",
   "execution_count": 26,
   "metadata": {},
   "outputs": [
    {
     "data": {
      "image/png": "[encoded data removed]",
      "text/plain": [
       "<Figure size 640x480 with 1 Axes>"
      ]
     },
     "metadata": {},
     "output_type": "display_data"
    }
   ],
   "source": [
    "# 绘制订单完成率随日期变化的折线图\n",
    "com_date.rate.plot(kind='line')\n",
    "plt.title('每日订单完成率变化趋势')\n",
    "plt.show()"
   ]
  },
  {
   "attachments": {},
   "cell_type": "markdown",
   "metadata": {},
   "source": [
    "- 单月每日订单完成率规律不太明显，但几个估值基本都出现在周末附近，说明客户出行需求的提升可能导致响应率的降低。"
   ]
  },
  {
   "attachments": {},
   "cell_type": "markdown",
   "metadata": {},
   "source": [
    "##### 2.5 顾客等待时间"
   ]
  },
  {
   "cell_type": "code",
   "execution_count": 27,
   "metadata": {},
   "outputs": [
    {
     "data": {
      "text/html": [
       "<div>\n",
       "<style scoped>\n",
       "    .dataframe tbody tr th:only-of-type {\n",
       "        vertical-align: middle;\n",
       "    }\n",
       "\n",
       "    .dataframe tbody tr th {\n",
       "        vertical-align: top;\n",
       "    }\n",
       "\n",
       "    .dataframe thead th {\n",
       "        text-align: right;\n",
       "    }\n",
       "</style>\n",
       "<table border=\"1\" class=\"dataframe\">\n",
       "  <thead>\n",
       "    <tr style=\"text-align: right;\">\n",
       "      <th></th>\n",
       "      <th>pETA</th>\n",
       "      <th>aETA</th>\n",
       "    </tr>\n",
       "    <tr>\n",
       "      <th>hour</th>\n",
       "      <th></th>\n",
       "      <th></th>\n",
       "    </tr>\n",
       "  </thead>\n",
       "  <tbody>\n",
       "    <tr>\n",
       "      <th>11</th>\n",
       "      <td>5.397333</td>\n",
       "      <td>6.611000</td>\n",
       "    </tr>\n",
       "    <tr>\n",
       "      <th>12</th>\n",
       "      <td>5.860000</td>\n",
       "      <td>7.253333</td>\n",
       "    </tr>\n",
       "    <tr>\n",
       "      <th>13</th>\n",
       "      <td>6.018333</td>\n",
       "      <td>7.732667</td>\n",
       "    </tr>\n",
       "  </tbody>\n",
       "</table>\n",
       "</div>"
      ],
      "text/plain": [
       "          pETA      aETA\n",
       "hour                    \n",
       "11    5.397333  6.611000\n",
       "12    5.860000  7.253333\n",
       "13    6.018333  7.732667"
      ]
     },
     "execution_count": 27,
     "metadata": {},
     "output_type": "execute_result"
    }
   ],
   "source": [
    "import numpy as np\n",
    "\n",
    "eta_hour = city.groupby(['hour'], as_index=True).agg({'pETA': np.mean, 'aETA': np.mean})\n",
    "eta_hour"
   ]
  },
  {
   "cell_type": "code",
   "execution_count": 28,
   "metadata": {},
   "outputs": [
    {
     "data": {
      "image/png": "[encoded data removed]",
      "text/plain": [
       "<Figure size 640x480 with 1 Axes>"
      ]
     },
     "metadata": {},
     "output_type": "display_data"
    }
   ],
   "source": [
    "# 绘制顾客等待时长复合柱状图\n",
    "eta_hour.plot(kind='bar')\n",
    "plt.title('顾客等待时长')\n",
    "plt.xticks(rotation=0)\n",
    "plt.show()"
   ]
  },
  {
   "attachments": {},
   "cell_type": "markdown",
   "metadata": {},
   "source": [
    "- 以上可见，无论哪个时点，用户实际等待时长均明显大于用户预计等待时长。\n",
    "- 各时点用户等待时长差异不明显，但13点最高。\n",
    "- **客运部一方面应提升用户预计等待时长的准确性，另一方面优化平台派单逻辑等。**"
   ]
  },
  {
   "attachments": {},
   "cell_type": "markdown",
   "metadata": {},
   "source": [
    "##### 2.6 司机在忙率"
   ]
  },
  {
   "cell_type": "code",
   "execution_count": 29,
   "metadata": {},
   "outputs": [
    {
     "data": {
      "text/html": [
       "<div>\n",
       "<style scoped>\n",
       "    .dataframe tbody tr th:only-of-type {\n",
       "        vertical-align: middle;\n",
       "    }\n",
       "\n",
       "    .dataframe tbody tr th {\n",
       "        vertical-align: top;\n",
       "    }\n",
       "\n",
       "    .dataframe thead th {\n",
       "        text-align: right;\n",
       "    }\n",
       "</style>\n",
       "<table border=\"1\" class=\"dataframe\">\n",
       "  <thead>\n",
       "    <tr style=\"text-align: right;\">\n",
       "      <th></th>\n",
       "      <th>date</th>\n",
       "      <th>hour</th>\n",
       "      <th>requests</th>\n",
       "      <th>trips</th>\n",
       "      <th>supply hours</th>\n",
       "      <th>average minutes of trips</th>\n",
       "      <th>pETA</th>\n",
       "      <th>aETA</th>\n",
       "      <th>utiliz</th>\n",
       "      <th>busy</th>\n",
       "    </tr>\n",
       "  </thead>\n",
       "  <tbody>\n",
       "    <tr>\n",
       "      <th>0</th>\n",
       "      <td>2013-09-01</td>\n",
       "      <td>11</td>\n",
       "      <td>79</td>\n",
       "      <td>55</td>\n",
       "      <td>42.63</td>\n",
       "      <td>20.43</td>\n",
       "      <td>5.51</td>\n",
       "      <td>7.19</td>\n",
       "      <td>0.479240</td>\n",
       "      <td>20.43</td>\n",
       "    </tr>\n",
       "    <tr>\n",
       "      <th>1</th>\n",
       "      <td>2013-09-01</td>\n",
       "      <td>12</td>\n",
       "      <td>73</td>\n",
       "      <td>41</td>\n",
       "      <td>36.43</td>\n",
       "      <td>15.53</td>\n",
       "      <td>5.48</td>\n",
       "      <td>8.48</td>\n",
       "      <td>0.426297</td>\n",
       "      <td>15.53</td>\n",
       "    </tr>\n",
       "    <tr>\n",
       "      <th>2</th>\n",
       "      <td>2013-09-01</td>\n",
       "      <td>13</td>\n",
       "      <td>54</td>\n",
       "      <td>50</td>\n",
       "      <td>23.02</td>\n",
       "      <td>17.76</td>\n",
       "      <td>5.07</td>\n",
       "      <td>8.94</td>\n",
       "      <td>0.771503</td>\n",
       "      <td>17.76</td>\n",
       "    </tr>\n",
       "    <tr>\n",
       "      <th>3</th>\n",
       "      <td>2013-09-02</td>\n",
       "      <td>11</td>\n",
       "      <td>193</td>\n",
       "      <td>170</td>\n",
       "      <td>64.20</td>\n",
       "      <td>31.47</td>\n",
       "      <td>5.31</td>\n",
       "      <td>6.55</td>\n",
       "      <td>0.490187</td>\n",
       "      <td>31.47</td>\n",
       "    </tr>\n",
       "    <tr>\n",
       "      <th>4</th>\n",
       "      <td>2013-09-02</td>\n",
       "      <td>12</td>\n",
       "      <td>258</td>\n",
       "      <td>210</td>\n",
       "      <td>80.28</td>\n",
       "      <td>38.68</td>\n",
       "      <td>4.94</td>\n",
       "      <td>6.08</td>\n",
       "      <td>0.481814</td>\n",
       "      <td>38.68</td>\n",
       "    </tr>\n",
       "  </tbody>\n",
       "</table>\n",
       "</div>"
      ],
      "text/plain": [
       "        date  hour  requests  trips  supply hours  average minutes of trips  \\\n",
       "0 2013-09-01    11        79     55         42.63                     20.43   \n",
       "1 2013-09-01    12        73     41         36.43                     15.53   \n",
       "2 2013-09-01    13        54     50         23.02                     17.76   \n",
       "3 2013-09-02    11       193    170         64.20                     31.47   \n",
       "4 2013-09-02    12       258    210         80.28                     38.68   \n",
       "\n",
       "   pETA  aETA    utiliz   busy  \n",
       "0  5.51  7.19  0.479240  20.43  \n",
       "1  5.48  8.48  0.426297  15.53  \n",
       "2  5.07  8.94  0.771503  17.76  \n",
       "3  5.31  6.55  0.490187  31.47  \n",
       "4  4.94  6.08  0.481814  38.68  "
      ]
     },
     "execution_count": 29,
     "metadata": {},
     "output_type": "execute_result"
    }
   ],
   "source": [
    "city['busy'] = city['supply hours']*city['utiliz']\n",
    "city.head()"
   ]
  },
  {
   "cell_type": "code",
   "execution_count": 30,
   "metadata": {},
   "outputs": [
    {
     "data": {
      "text/html": [
       "<div>\n",
       "<style scoped>\n",
       "    .dataframe tbody tr th:only-of-type {\n",
       "        vertical-align: middle;\n",
       "    }\n",
       "\n",
       "    .dataframe tbody tr th {\n",
       "        vertical-align: top;\n",
       "    }\n",
       "\n",
       "    .dataframe thead th {\n",
       "        text-align: right;\n",
       "    }\n",
       "</style>\n",
       "<table border=\"1\" class=\"dataframe\">\n",
       "  <thead>\n",
       "    <tr style=\"text-align: right;\">\n",
       "      <th></th>\n",
       "      <th>hour</th>\n",
       "      <th>supply hours</th>\n",
       "      <th>busy</th>\n",
       "      <th>utiliz</th>\n",
       "    </tr>\n",
       "  </thead>\n",
       "  <tbody>\n",
       "    <tr>\n",
       "      <th>0</th>\n",
       "      <td>11</td>\n",
       "      <td>1660.01</td>\n",
       "      <td>768.51</td>\n",
       "      <td>0.462955</td>\n",
       "    </tr>\n",
       "    <tr>\n",
       "      <th>1</th>\n",
       "      <td>12</td>\n",
       "      <td>1818.03</td>\n",
       "      <td>1115.28</td>\n",
       "      <td>0.613455</td>\n",
       "    </tr>\n",
       "    <tr>\n",
       "      <th>2</th>\n",
       "      <td>13</td>\n",
       "      <td>1274.60</td>\n",
       "      <td>730.83</td>\n",
       "      <td>0.573380</td>\n",
       "    </tr>\n",
       "  </tbody>\n",
       "</table>\n",
       "</div>"
      ],
      "text/plain": [
       "   hour  supply hours     busy    utiliz\n",
       "0    11       1660.01   768.51  0.462955\n",
       "1    12       1818.03  1115.28  0.613455\n",
       "2    13       1274.60   730.83  0.573380"
      ]
     },
     "execution_count": 30,
     "metadata": {},
     "output_type": "execute_result"
    }
   ],
   "source": [
    "busy_hour = city.groupby(['hour'], as_index=False).agg({'supply hours': 'sum', 'busy': 'sum'})\n",
    "busy_hour['utiliz'] = busy_hour['busy']/busy_hour['supply hours']\n",
    "busy_hour"
   ]
  },
  {
   "attachments": {},
   "cell_type": "markdown",
   "metadata": {},
   "source": [
    "- 12点司机在忙总时长最长，在忙率也最高，用户订单请求也最多，说明车辆空闲数量偏少"
   ]
  },
  {
   "attachments": {},
   "cell_type": "markdown",
   "metadata": {},
   "source": [
    "##### 2.7 订单时长"
   ]
  },
  {
   "cell_type": "code",
   "execution_count": 31,
   "metadata": {},
   "outputs": [
    {
     "data": {
      "text/html": [
       "<div>\n",
       "<style scoped>\n",
       "    .dataframe tbody tr th:only-of-type {\n",
       "        vertical-align: middle;\n",
       "    }\n",
       "\n",
       "    .dataframe tbody tr th {\n",
       "        vertical-align: top;\n",
       "    }\n",
       "\n",
       "    .dataframe thead th {\n",
       "        text-align: right;\n",
       "    }\n",
       "</style>\n",
       "<table border=\"1\" class=\"dataframe\">\n",
       "  <thead>\n",
       "    <tr style=\"text-align: right;\">\n",
       "      <th></th>\n",
       "      <th>hour</th>\n",
       "      <th>average minutes of trips</th>\n",
       "    </tr>\n",
       "  </thead>\n",
       "  <tbody>\n",
       "    <tr>\n",
       "      <th>0</th>\n",
       "      <td>11</td>\n",
       "      <td>25.617</td>\n",
       "    </tr>\n",
       "    <tr>\n",
       "      <th>1</th>\n",
       "      <td>12</td>\n",
       "      <td>37.176</td>\n",
       "    </tr>\n",
       "    <tr>\n",
       "      <th>2</th>\n",
       "      <td>13</td>\n",
       "      <td>24.361</td>\n",
       "    </tr>\n",
       "  </tbody>\n",
       "</table>\n",
       "</div>"
      ],
      "text/plain": [
       "   hour  average minutes of trips\n",
       "0    11                    25.617\n",
       "1    12                    37.176\n",
       "2    13                    24.361"
      ]
     },
     "execution_count": 31,
     "metadata": {},
     "output_type": "execute_result"
    }
   ],
   "source": [
    "trip_min = city.groupby(['hour'], as_index=False).agg({'average minutes of trips': np.mean})\n",
    "trip_min"
   ]
  },
  {
   "attachments": {},
   "cell_type": "markdown",
   "metadata": {},
   "source": [
    "- 12点用户订单需求较多，同时订单时长最长，说明这个时间点是一个非常重要的时间点。"
   ]
  },
  {
   "cell_type": "code",
   "execution_count": 32,
   "metadata": {},
   "outputs": [
    {
     "data": {
      "text/html": [
       "<div>\n",
       "<style scoped>\n",
       "    .dataframe tbody tr th:only-of-type {\n",
       "        vertical-align: middle;\n",
       "    }\n",
       "\n",
       "    .dataframe tbody tr th {\n",
       "        vertical-align: top;\n",
       "    }\n",
       "\n",
       "    .dataframe thead th {\n",
       "        text-align: right;\n",
       "    }\n",
       "</style>\n",
       "<table border=\"1\" class=\"dataframe\">\n",
       "  <thead>\n",
       "    <tr style=\"text-align: right;\">\n",
       "      <th></th>\n",
       "      <th>hour</th>\n",
       "      <th>supply hours</th>\n",
       "    </tr>\n",
       "  </thead>\n",
       "  <tbody>\n",
       "    <tr>\n",
       "      <th>0</th>\n",
       "      <td>11</td>\n",
       "      <td>55.333667</td>\n",
       "    </tr>\n",
       "    <tr>\n",
       "      <th>1</th>\n",
       "      <td>12</td>\n",
       "      <td>60.601000</td>\n",
       "    </tr>\n",
       "    <tr>\n",
       "      <th>2</th>\n",
       "      <td>13</td>\n",
       "      <td>42.486667</td>\n",
       "    </tr>\n",
       "  </tbody>\n",
       "</table>\n",
       "</div>"
      ],
      "text/plain": [
       "   hour  supply hours\n",
       "0    11     55.333667\n",
       "1    12     60.601000\n",
       "2    13     42.486667"
      ]
     },
     "execution_count": 32,
     "metadata": {},
     "output_type": "execute_result"
    }
   ],
   "source": [
    "supply_hour = city.groupby(['hour'], as_index=False).agg({'supply hours': np.mean})\n",
    "supply_hour"
   ]
  },
  {
   "attachments": {},
   "cell_type": "markdown",
   "metadata": {},
   "source": [
    "- 13点订单量也较大，此时点司机服务时长较短。\n",
    "- **为优化用户出行体验，司机运营平台可联合客运部可考虑此时段尽量分配总服务时长较长的司机来接单（经验较为丰富）。**"
   ]
  },
  {
   "cell_type": "code",
   "execution_count": null,
   "metadata": {},
   "outputs": [],
   "source": []
  }
 ],
 "metadata": {
  "kernelspec": {
   "display_name": "fenxi",
   "language": "python",
   "name": "python3"
  },
  "language_info": {
   "codemirror_mode": {
    "name": "ipython",
    "version": 3
   },
   "file_extension": ".py",
   "mimetype": "text/x-python",
   "name": "python",
   "nbconvert_exporter": "python",
   "pygments_lexer": "ipython3",
   "version": "3.9.13"
  },
  "orig_nbformat": 4,
  "vscode": {
   "interpreter": {
    "hash": "4a3a59a05f7228352b47b1d78875c49a9f085106cde1670b72f6b695d80556b3"
   }
  }
 },
 "nbformat": 4,
 "nbformat_minor": 2
}
